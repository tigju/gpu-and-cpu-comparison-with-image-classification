{
 "cells": [
  {
   "cell_type": "markdown",
   "id": "intimate-maldives",
   "metadata": {},
   "source": [
    "# Compare Performance of CPU and GPU with ANN image classification\n",
    "#### versions information: python 3.7.6, tensorflow 2.4.0, cuDNN v8.1.0, CUDA 11.2"
   ]
  },
  {
   "cell_type": "code",
   "execution_count": 5,
   "id": "virgin-saying",
   "metadata": {},
   "outputs": [],
   "source": [
    "from tensorflow import keras\n",
    "import matplotlib.pyplot as plt\n",
    "import numpy as np"
   ]
  },
  {
   "cell_type": "code",
   "execution_count": 1,
   "id": "exceptional-tradition",
   "metadata": {},
   "outputs": [
    {
     "data": {
      "text/plain": [
       "'2.4.0'"
      ]
     },
     "execution_count": 1,
     "metadata": {},
     "output_type": "execute_result"
    }
   ],
   "source": [
    "import tensorflow as tf\n",
    "tf.__version__"
   ]
  },
  {
   "cell_type": "code",
   "execution_count": 4,
   "id": "posted-application",
   "metadata": {},
   "outputs": [
    {
     "name": "stdout",
     "output_type": "stream",
     "text": [
      "True\n"
     ]
    }
   ],
   "source": [
    "print(tf.test.is_built_with_cuda())"
   ]
  },
  {
   "cell_type": "code",
   "execution_count": 2,
   "id": "settled-concrete",
   "metadata": {},
   "outputs": [
    {
     "data": {
      "text/plain": [
       "[PhysicalDevice(name='/physical_device:CPU:0', device_type='CPU'),\n",
       " PhysicalDevice(name='/physical_device:GPU:0', device_type='GPU')]"
      ]
     },
     "execution_count": 2,
     "metadata": {},
     "output_type": "execute_result"
    }
   ],
   "source": [
    "tf.config.experimental.list_physical_devices()"
   ]
  },
  {
   "cell_type": "code",
   "execution_count": 6,
   "id": "multiple-cookie",
   "metadata": {},
   "outputs": [
    {
     "name": "stdout",
     "output_type": "stream",
     "text": [
      "Downloading data from https://www.cs.toronto.edu/~kriz/cifar-10-python.tar.gz\n",
      "170500096/170498071 [==============================] - 6s 0us/step\n"
     ]
    }
   ],
   "source": [
    "(X_train, y_train), (X_test, y_test) = tf.keras.datasets.cifar10.load_data()"
   ]
  },
  {
   "cell_type": "code",
   "execution_count": 7,
   "id": "charged-beauty",
   "metadata": {},
   "outputs": [
    {
     "data": {
      "text/plain": [
       "(50000, 32, 32, 3)"
      ]
     },
     "execution_count": 7,
     "metadata": {},
     "output_type": "execute_result"
    }
   ],
   "source": [
    "X_train.shape"
   ]
  },
  {
   "cell_type": "code",
   "execution_count": 8,
   "id": "cubic-daniel",
   "metadata": {},
   "outputs": [
    {
     "data": {
      "text/plain": [
       "(50000, 1)"
      ]
     },
     "execution_count": 8,
     "metadata": {},
     "output_type": "execute_result"
    }
   ],
   "source": [
    "y_train.shape"
   ]
  },
  {
   "cell_type": "code",
   "execution_count": 11,
   "id": "sitting-africa",
   "metadata": {},
   "outputs": [],
   "source": [
    "def plot_img(index):\n",
    "    plt.figure(figsize=(10,1))\n",
    "    plt.imshow(X_train[index])"
   ]
  },
  {
   "cell_type": "code",
   "execution_count": 12,
   "id": "sunset-density",
   "metadata": {},
   "outputs": [
    {
     "data": {
      "image/png": "[encoded data removed]",
      "text/plain": [
       "<Figure size 720x72 with 1 Axes>"
      ]
     },
     "metadata": {
      "needs_background": "light"
     },
     "output_type": "display_data"
    }
   ],
   "source": [
    "plot_img(4)"
   ]
  },
  {
   "cell_type": "code",
   "execution_count": 13,
   "id": "addressed-guyana",
   "metadata": {},
   "outputs": [],
   "source": [
    "# define classes\n",
    "\n",
    "classes = ['airplane', 'car', 'bird', 'cat', 'deer', 'dog', 'frog', 'horse', 'ship', 'truck']"
   ]
  },
  {
   "cell_type": "code",
   "execution_count": 14,
   "id": "indonesian-segment",
   "metadata": {},
   "outputs": [
    {
     "data": {
      "image/png": "[encoded data removed]",
      "text/plain": [
       "<Figure size 720x72 with 1 Axes>"
      ]
     },
     "metadata": {
      "needs_background": "light"
     },
     "output_type": "display_data"
    }
   ],
   "source": [
    "plot_img(3)"
   ]
  },
  {
   "cell_type": "code",
   "execution_count": 15,
   "id": "aboriginal-tsunami",
   "metadata": {},
   "outputs": [
    {
     "data": {
      "text/plain": [
       "array([4], dtype=uint8)"
      ]
     },
     "execution_count": 15,
     "metadata": {},
     "output_type": "execute_result"
    }
   ],
   "source": [
    "y_train[3]"
   ]
  },
  {
   "cell_type": "code",
   "execution_count": 16,
   "id": "employed-representative",
   "metadata": {},
   "outputs": [
    {
     "data": {
      "text/plain": [
       "'deer'"
      ]
     },
     "execution_count": 16,
     "metadata": {},
     "output_type": "execute_result"
    }
   ],
   "source": [
    "classes[y_train[3][0]]"
   ]
  },
  {
   "cell_type": "code",
   "execution_count": 17,
   "id": "trying-orbit",
   "metadata": {},
   "outputs": [],
   "source": [
    "# scale images\n",
    "X_train_scaled = X_train/255\n",
    "X_test_scaled = X_test/255"
   ]
  },
  {
   "cell_type": "code",
   "execution_count": 18,
   "id": "silver-applicant",
   "metadata": {},
   "outputs": [
    {
     "data": {
      "text/plain": [
       "array([[0., 0., 0., ..., 0., 0., 0.],\n",
       "       [0., 0., 0., ..., 0., 0., 1.],\n",
       "       [0., 0., 0., ..., 0., 0., 1.],\n",
       "       ...,\n",
       "       [0., 0., 0., ..., 0., 0., 1.],\n",
       "       [0., 1., 0., ..., 0., 0., 0.],\n",
       "       [0., 1., 0., ..., 0., 0., 0.]], dtype=float32)"
      ]
     },
     "execution_count": 18,
     "metadata": {},
     "output_type": "execute_result"
    }
   ],
   "source": [
    "# convert discrete y to categorical using one hot encoding\n",
    "y_train_categorical = keras.utils.to_categorical(y_train, num_classes=10, dtype='float32')\n",
    "y_train_categorical"
   ]
  },
  {
   "cell_type": "code",
   "execution_count": 19,
   "id": "prescription-absorption",
   "metadata": {},
   "outputs": [
    {
     "data": {
      "text/plain": [
       "array([[0., 0., 0., ..., 0., 0., 0.],\n",
       "       [0., 0., 0., ..., 0., 1., 0.],\n",
       "       [0., 0., 0., ..., 0., 1., 0.],\n",
       "       ...,\n",
       "       [0., 0., 0., ..., 0., 0., 0.],\n",
       "       [0., 1., 0., ..., 0., 0., 0.],\n",
       "       [0., 0., 0., ..., 1., 0., 0.]], dtype=float32)"
      ]
     },
     "execution_count": 19,
     "metadata": {},
     "output_type": "execute_result"
    }
   ],
   "source": [
    "y_test_categorical = keras.utils.to_categorical(y_test, num_classes=10, dtype='float32')\n",
    "y_test_categorical"
   ]
  },
  {
   "cell_type": "code",
   "execution_count": 21,
   "id": "absent-individual",
   "metadata": {},
   "outputs": [
    {
     "name": "stdout",
     "output_type": "stream",
     "text": [
      "Epoch 1/50\n",
      "1563/1563 [==============================] - 11s 6ms/step - loss: 1.9323 - accuracy: 0.3025\n",
      "Epoch 2/50\n",
      "1563/1563 [==============================] - 9s 6ms/step - loss: 1.6474 - accuracy: 0.4175\n",
      "Epoch 3/50\n",
      "1563/1563 [==============================] - 9s 6ms/step - loss: 1.5537 - accuracy: 0.4527\n",
      "Epoch 4/50\n",
      "1563/1563 [==============================] - 10s 6ms/step - loss: 1.4843 - accuracy: 0.4775\n",
      "Epoch 5/50\n",
      "1563/1563 [==============================] - 9s 6ms/step - loss: 1.4348 - accuracy: 0.4953\n",
      "Epoch 6/50\n",
      "1563/1563 [==============================] - 9s 6ms/step - loss: 1.3855 - accuracy: 0.5128\n",
      "Epoch 7/50\n",
      "1563/1563 [==============================] - 9s 6ms/step - loss: 1.3597 - accuracy: 0.5219\n",
      "Epoch 8/50\n",
      "1563/1563 [==============================] - 9s 6ms/step - loss: 1.3101 - accuracy: 0.5398\n",
      "Epoch 9/50\n",
      "1563/1563 [==============================] - 10s 7ms/step - loss: 1.2866 - accuracy: 0.5471\n",
      "Epoch 10/50\n",
      "1563/1563 [==============================] - 10s 6ms/step - loss: 1.2521 - accuracy: 0.5591\n",
      "Epoch 11/50\n",
      "1563/1563 [==============================] - 10s 6ms/step - loss: 1.2141 - accuracy: 0.5740\n",
      "Epoch 12/50\n",
      "1563/1563 [==============================] - 10s 7ms/step - loss: 1.1837 - accuracy: 0.5856\n",
      "Epoch 13/50\n",
      "1563/1563 [==============================] - 11s 7ms/step - loss: 1.1635 - accuracy: 0.5943\n",
      "Epoch 14/50\n",
      "1563/1563 [==============================] - 11s 7ms/step - loss: 1.1353 - accuracy: 0.6030\n",
      "Epoch 15/50\n",
      "1563/1563 [==============================] - 10s 6ms/step - loss: 1.1067 - accuracy: 0.6139\n",
      "Epoch 16/50\n",
      "1563/1563 [==============================] - 10s 7ms/step - loss: 1.0894 - accuracy: 0.6212\n",
      "Epoch 17/50\n",
      "1563/1563 [==============================] - 10s 7ms/step - loss: 1.0529 - accuracy: 0.6370\n",
      "Epoch 18/50\n",
      "1563/1563 [==============================] - 10s 6ms/step - loss: 1.0233 - accuracy: 0.6429\n",
      "Epoch 19/50\n",
      "1563/1563 [==============================] - 10s 6ms/step - loss: 1.0039 - accuracy: 0.6538\n",
      "Epoch 20/50\n",
      "1563/1563 [==============================] - 10s 6ms/step - loss: 0.9813 - accuracy: 0.6597\n",
      "Epoch 21/50\n",
      "1563/1563 [==============================] - 10s 7ms/step - loss: 0.9513 - accuracy: 0.6686\n",
      "Epoch 22/50\n",
      "1563/1563 [==============================] - 10s 7ms/step - loss: 0.9267 - accuracy: 0.6787\n",
      "Epoch 23/50\n",
      "1563/1563 [==============================] - 11s 7ms/step - loss: 0.8987 - accuracy: 0.6907\n",
      "Epoch 24/50\n",
      "1563/1563 [==============================] - 11s 7ms/step - loss: 0.8765 - accuracy: 0.6961\n",
      "Epoch 25/50\n",
      "1563/1563 [==============================] - 11s 7ms/step - loss: 0.8462 - accuracy: 0.7095\n",
      "Epoch 26/50\n",
      "1563/1563 [==============================] - 11s 7ms/step - loss: 0.8222 - accuracy: 0.7157\n",
      "Epoch 27/50\n",
      "1563/1563 [==============================] - 10s 7ms/step - loss: 0.7963 - accuracy: 0.7264\n",
      "Epoch 28/50\n",
      "1563/1563 [==============================] - 11s 7ms/step - loss: 0.7745 - accuracy: 0.7351\n",
      "Epoch 29/50\n",
      "1563/1563 [==============================] - 10s 7ms/step - loss: 0.7491 - accuracy: 0.7458\n",
      "Epoch 30/50\n",
      "1563/1563 [==============================] - 11s 7ms/step - loss: 0.7186 - accuracy: 0.7572\n",
      "Epoch 31/50\n",
      "1563/1563 [==============================] - 11s 7ms/step - loss: 0.6902 - accuracy: 0.7670\n",
      "Epoch 32/50\n",
      "1563/1563 [==============================] - 11s 7ms/step - loss: 0.6672 - accuracy: 0.7725\n",
      "Epoch 33/50\n",
      "1563/1563 [==============================] - 11s 7ms/step - loss: 0.6464 - accuracy: 0.7816\n",
      "Epoch 34/50\n",
      "1563/1563 [==============================] - 11s 7ms/step - loss: 0.6179 - accuracy: 0.7954\n",
      "Epoch 35/50\n",
      "1563/1563 [==============================] - 11s 7ms/step - loss: 0.5974 - accuracy: 0.8020\n",
      "Epoch 36/50\n",
      "1563/1563 [==============================] - 11s 7ms/step - loss: 0.5747 - accuracy: 0.8135\n",
      "Epoch 37/50\n",
      "1563/1563 [==============================] - 11s 7ms/step - loss: 0.5562 - accuracy: 0.8166\n",
      "Epoch 38/50\n",
      "1563/1563 [==============================] - 11s 7ms/step - loss: 0.5295 - accuracy: 0.8251\n",
      "Epoch 39/50\n",
      "1563/1563 [==============================] - 11s 7ms/step - loss: 0.4945 - accuracy: 0.8367\n",
      "Epoch 40/50\n",
      "1563/1563 [==============================] - 10s 7ms/step - loss: 0.4869 - accuracy: 0.8400\n",
      "Epoch 41/50\n",
      "1563/1563 [==============================] - 11s 7ms/step - loss: 0.4622 - accuracy: 0.8515\n",
      "Epoch 42/50\n",
      "1563/1563 [==============================] - 11s 7ms/step - loss: 0.4403 - accuracy: 0.8591\n",
      "Epoch 43/50\n",
      "1563/1563 [==============================] - 11s 7ms/step - loss: 0.4182 - accuracy: 0.8663\n",
      "Epoch 44/50\n",
      "1563/1563 [==============================] - 11s 7ms/step - loss: 0.4031 - accuracy: 0.8723\n",
      "Epoch 45/50\n",
      "1563/1563 [==============================] - 10s 7ms/step - loss: 0.3847 - accuracy: 0.8790\n",
      "Epoch 46/50\n",
      "1563/1563 [==============================] - 11s 7ms/step - loss: 0.3505 - accuracy: 0.8899\n",
      "Epoch 47/50\n",
      "1563/1563 [==============================] - 11s 7ms/step - loss: 0.3503 - accuracy: 0.8929\n",
      "Epoch 48/50\n",
      "1563/1563 [==============================] - 11s 7ms/step - loss: 0.3259 - accuracy: 0.9004\n",
      "Epoch 49/50\n",
      "1563/1563 [==============================] - 11s 7ms/step - loss: 0.3082 - accuracy: 0.9078\n",
      "Epoch 50/50\n",
      "1563/1563 [==============================] - 11s 7ms/step - loss: 0.2911 - accuracy: 0.9132\n"
     ]
    },
    {
     "data": {
      "text/plain": [
       "<tensorflow.python.keras.callbacks.History at 0x24776d44408>"
      ]
     },
     "execution_count": 21,
     "metadata": {},
     "output_type": "execute_result"
    }
   ],
   "source": [
    "model = keras.Sequential([\n",
    "    keras.layers.Flatten(input_shape=(32, 32, 3)),\n",
    "    keras.layers.Dense(3000, activation='relu'),\n",
    "    keras.layers.Dense(1000, activation='relu'),\n",
    "    keras.layers.Dense(10, activation='sigmoid')\n",
    "])\n",
    "\n",
    "# categorical_crossentropy used for one hot encoded categories\n",
    "model.compile(optimizer='SGD', loss='categorical_crossentropy', metrics=['accuracy'])\n",
    "\n",
    "model.fit(X_train_scaled, y_train_categorical, epochs=50)"
   ]
  },
  {
   "cell_type": "code",
   "execution_count": 25,
   "id": "transparent-harassment",
   "metadata": {},
   "outputs": [
    {
     "data": {
      "text/plain": [
       "'cat'"
      ]
     },
     "execution_count": 25,
     "metadata": {},
     "output_type": "execute_result"
    }
   ],
   "source": [
    "# model predicted\n",
    "classes[np.argmax(model.predict(X_test_scaled)[0])]"
   ]
  },
  {
   "cell_type": "code",
   "execution_count": 24,
   "id": "tracked-mining",
   "metadata": {},
   "outputs": [
    {
     "data": {
      "text/plain": [
       "'cat'"
      ]
     },
     "execution_count": 24,
     "metadata": {},
     "output_type": "execute_result"
    }
   ],
   "source": [
    "# true value\n",
    "classes[y_test[0][0]]"
   ]
  },
  {
   "cell_type": "code",
   "execution_count": 26,
   "id": "abandoned-saver",
   "metadata": {},
   "outputs": [
    {
     "data": {
      "text/plain": [
       "'ship'"
      ]
     },
     "execution_count": 26,
     "metadata": {},
     "output_type": "execute_result"
    }
   ],
   "source": [
    "# model predicted\n",
    "classes[np.argmax(model.predict(X_test_scaled)[1])]"
   ]
  },
  {
   "cell_type": "code",
   "execution_count": 27,
   "id": "criminal-documentation",
   "metadata": {},
   "outputs": [
    {
     "data": {
      "text/plain": [
       "'ship'"
      ]
     },
     "execution_count": 27,
     "metadata": {},
     "output_type": "execute_result"
    }
   ],
   "source": [
    "# true value\n",
    "classes[y_test[1][0]]"
   ]
  },
  {
   "cell_type": "code",
   "execution_count": 28,
   "id": "paperback-nigeria",
   "metadata": {},
   "outputs": [
    {
     "name": "stdout",
     "output_type": "stream",
     "text": [
      "313/313 [==============================] - 1s 3ms/step - loss: 1.5185 - accuracy: 0.5737\n"
     ]
    },
    {
     "data": {
      "text/plain": [
       "[1.5185467004776, 0.5737000107765198]"
      ]
     },
     "execution_count": 28,
     "metadata": {},
     "output_type": "execute_result"
    }
   ],
   "source": [
    "# accuracy of the model\n",
    "model.evaluate(X_test_scaled, y_test_categorical)"
   ]
  },
  {
   "cell_type": "code",
   "execution_count": 29,
   "id": "tamil-developer",
   "metadata": {},
   "outputs": [],
   "source": [
    "# Perfomance test"
   ]
  },
  {
   "cell_type": "code",
   "execution_count": 30,
   "id": "finite-penalty",
   "metadata": {},
   "outputs": [],
   "source": [
    "def get_model():\n",
    "    model = keras.Sequential([\n",
    "        keras.layers.Flatten(input_shape=(32, 32, 3)),\n",
    "        keras.layers.Dense(3000, activation='relu'),\n",
    "        keras.layers.Dense(1000, activation='relu'),\n",
    "        keras.layers.Dense(10, activation='sigmoid')\n",
    "    ])\n",
    "\n",
    "    model.compile(optimizer='SGD', loss='categorical_crossentropy', metrics=['accuracy'])\n",
    "    \n",
    "    return model"
   ]
  },
  {
   "cell_type": "markdown",
   "id": "modern-killing",
   "metadata": {},
   "source": [
    "# training time on CPU with 1 epoch"
   ]
  },
  {
   "cell_type": "code",
   "execution_count": 34,
   "id": "lightweight-belize",
   "metadata": {},
   "outputs": [
    {
     "name": "stdout",
     "output_type": "stream",
     "text": [
      "1563/1563 [==============================] - 55s 35ms/step - loss: 1.9301 - accuracy: 0.3054\n",
      "1 loop, best of 1: 55.1 s per loop\n"
     ]
    }
   ],
   "source": [
    "%%timeit -n1 -r1\n",
    "with tf.device('/CPU:0'):\n",
    "    cpu_model = get_model()\n",
    "    cpu_model.fit(X_train_scaled, y_train_categorical, epochs=1)"
   ]
  },
  {
   "cell_type": "markdown",
   "id": "prompt-devices",
   "metadata": {},
   "source": [
    "# Training time on GPU with one epoch"
   ]
  },
  {
   "cell_type": "code",
   "execution_count": 35,
   "id": "representative-stadium",
   "metadata": {},
   "outputs": [
    {
     "name": "stdout",
     "output_type": "stream",
     "text": [
      "1563/1563 [==============================] - 10s 6ms/step - loss: 1.9309 - accuracy: 0.3044\n",
      "1 loop, best of 1: 10.9 s per loop\n"
     ]
    }
   ],
   "source": [
    "%%timeit -n1 -r1\n",
    "with tf.device('/GPU:0'):\n",
    "    cpu_model = get_model()\n",
    "    cpu_model.fit(X_train_scaled, y_train_categorical, epochs=1)"
   ]
  },
  {
   "cell_type": "markdown",
   "id": "universal-planning",
   "metadata": {},
   "source": [
    "# Train time on CPU with 10 epochs"
   ]
  },
  {
   "cell_type": "code",
   "execution_count": 36,
   "id": "designed-composer",
   "metadata": {},
   "outputs": [
    {
     "name": "stdout",
     "output_type": "stream",
     "text": [
      "Epoch 1/10\n",
      "1563/1563 [==============================] - 46s 29ms/step - loss: 1.9297 - accuracy: 0.3018\n",
      "Epoch 2/10\n",
      "1563/1563 [==============================] - 49s 32ms/step - loss: 1.6487 - accuracy: 0.4172\n",
      "Epoch 3/10\n",
      "1563/1563 [==============================] - 53s 34ms/step - loss: 1.5586 - accuracy: 0.4513\n",
      "Epoch 4/10\n",
      "1563/1563 [==============================] - 49s 32ms/step - loss: 1.4855 - accuracy: 0.4763\n",
      "Epoch 5/10\n",
      "1563/1563 [==============================] - 48s 31ms/step - loss: 1.4369 - accuracy: 0.4954\n",
      "Epoch 6/10\n",
      "1563/1563 [==============================] - 50s 32ms/step - loss: 1.3939 - accuracy: 0.5121\n",
      "Epoch 7/10\n",
      "1563/1563 [==============================] - 51s 33ms/step - loss: 1.3446 - accuracy: 0.5284\n",
      "Epoch 8/10\n",
      "1563/1563 [==============================] - 48s 30ms/step - loss: 1.3148 - accuracy: 0.5388\n",
      "Epoch 9/10\n",
      "1563/1563 [==============================] - 49s 31ms/step - loss: 1.2868 - accuracy: 0.5501\n",
      "Epoch 10/10\n",
      "1563/1563 [==============================] - 47s 30ms/step - loss: 1.2452 - accuracy: 0.56580s -\n",
      "1 loop, best of 1: 8min 10s per loop\n"
     ]
    }
   ],
   "source": [
    "%%timeit -n1 -r1\n",
    "with tf.device('/CPU:0'):\n",
    "    cpu_model = get_model()\n",
    "    cpu_model.fit(X_train_scaled, y_train_categorical, epochs=10)"
   ]
  },
  {
   "cell_type": "markdown",
   "id": "enabling-maldives",
   "metadata": {},
   "source": [
    "# training time on GPU with 10 epochs (NVIDIA GeForce 1650)"
   ]
  },
  {
   "cell_type": "code",
   "execution_count": 37,
   "id": "subjective-hospital",
   "metadata": {},
   "outputs": [
    {
     "name": "stdout",
     "output_type": "stream",
     "text": [
      "Epoch 1/10\n",
      "1563/1563 [==============================] - 10s 6ms/step - loss: 1.9392 - accuracy: 0.3007\n",
      "Epoch 2/10\n",
      "1563/1563 [==============================] - 10s 6ms/step - loss: 1.6498 - accuracy: 0.4174\n",
      "Epoch 3/10\n",
      "1563/1563 [==============================] - 10s 6ms/step - loss: 1.5595 - accuracy: 0.4486\n",
      "Epoch 4/10\n",
      "1563/1563 [==============================] - 10s 6ms/step - loss: 1.4887 - accuracy: 0.4744\n",
      "Epoch 5/10\n",
      "1563/1563 [==============================] - 10s 7ms/step - loss: 1.4468 - accuracy: 0.4896\n",
      "Epoch 6/10\n",
      "1563/1563 [==============================] - 10s 7ms/step - loss: 1.4017 - accuracy: 0.5046\n",
      "Epoch 7/10\n",
      "1563/1563 [==============================] - 10s 6ms/step - loss: 1.3521 - accuracy: 0.5269\n",
      "Epoch 8/10\n",
      "1563/1563 [==============================] - 10s 6ms/step - loss: 1.3166 - accuracy: 0.5357\n",
      "Epoch 9/10\n",
      "1563/1563 [==============================] - 10s 6ms/step - loss: 1.2831 - accuracy: 0.5486\n",
      "Epoch 10/10\n",
      "1563/1563 [==============================] - 10s 6ms/step - loss: 1.2555 - accuracy: 0.5597\n",
      "1 loop, best of 1: 1min 40s per loop\n"
     ]
    }
   ],
   "source": [
    "%%timeit -n1 -r1\n",
    "with tf.device('/GPU:0'):\n",
    "    cpu_model = get_model()\n",
    "    cpu_model.fit(X_train_scaled, y_train_categorical, epochs=10)"
   ]
  },
  {
   "cell_type": "code",
   "execution_count": null,
   "id": "chubby-charm",
   "metadata": {},
   "outputs": [],
   "source": []
  }
 ],
 "metadata": {
  "kernelspec": {
   "display_name": "Python 3",
   "language": "python",
   "name": "python3"
  },
  "language_info": {
   "codemirror_mode": {
    "name": "ipython",
    "version": 3
   },
   "file_extension": ".py",
   "mimetype": "text/x-python",
   "name": "python",
   "nbconvert_exporter": "python",
   "pygments_lexer": "ipython3",
   "version": "3.7.6"
  }
 },
 "nbformat": 4,
 "nbformat_minor": 5
}
